{
 "cells": [
  {
   "cell_type": "code",
   "execution_count": null,
   "id": "5b687ce4",
   "metadata": {},
   "outputs": [],
   "source": [
    "import requests as res\n",
    "from bs4 import BeautifulSoup as bs\n",
    "\n",
    "\n",
    "# the numbers 爬蟲\n",
    "url = 'https://www.the-numbers.com/movie/budgets/all'\n",
    "res = req.get(url,headers = {'user-agent':'Mozilla/5.0 (Windows NT 10.0; Win64; x64) AppleWebKit/537.36 (KHTML, like Gecko) Chrome/110.0.0.0 Safari/537.36'})\n",
    "soup = bs(res.text,\"lxml\")\n",
    "soup.select('table td')\n",
    "columns_list = ['ReleaseDate','Movie','ProductionBudget','DomesticGross','WorldwideGross']\n",
    "dfsum = pd.DataFrame(np.array([i.get_text() for i in soup.select('table td')]).reshape(-1,6)[:,1:6],columns = columns_list)\n",
    "index = 101\n",
    "for i in range(62):\n",
    "    url = f'https://www.the-numbers.com/movie/budgets/all/{index}'\n",
    "    res = req.get(url,headers = {'user-agent':'Mozilla/5.0 (Windows NT 10.0; Win64; x64) AppleWebKit/537.36 (KHTML, like Gecko) Chrome/110.0.0.0 Safari/537.36'})\n",
    "    soup = bs(res.text,\"lxml\")\n",
    "    soup.select('table td')\n",
    "    dfsum = dfsum.append(pd.DataFrame(np.array([i.get_text() for i in soup.select('table td')]).reshape(-1,6)[:,1:6],columns = columns_list),ignore_index = True)\n",
    "    index += 100"
   ]
  }
 ],
 "metadata": {
  "kernelspec": {
   "display_name": "Python 3 (ipykernel)",
   "language": "python",
   "name": "python3"
  },
  "language_info": {
   "codemirror_mode": {
    "name": "ipython",
    "version": 3
   },
   "file_extension": ".py",
   "mimetype": "text/x-python",
   "name": "python",
   "nbconvert_exporter": "python",
   "pygments_lexer": "ipython3",
   "version": "3.9.13"
  }
 },
 "nbformat": 4,
 "nbformat_minor": 5
}
