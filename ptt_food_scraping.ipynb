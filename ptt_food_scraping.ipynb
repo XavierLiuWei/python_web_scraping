{
 "cells": [
  {
   "cell_type": "code",
   "execution_count": 22,
   "id": "1b15405c",
   "metadata": {},
   "outputs": [],
   "source": [
    "import requests as req\n",
    "from bs4 import BeautifulSoup as bs\n",
    "from pprint import pprint\n",
    "import re\n",
    "# 執行 command 的時候用的\n",
    "import os\n",
    "\n",
    "url=\"https://www.ptt.cc/bbs/Food/search?q=%E5%A4%A7%E5%AE%89\"\n",
    "res = req.get(url)\n",
    "soup = bs(res.text,\"lxml\")\n",
    "    \n",
    "listData = []\n",
    "\n",
    "for r_ent in soup.select(\"div.r-ent\"):\n",
    "    f_Name=r_ent.select_one(\"div.title > a\")\n",
    "    regex=r\"^\\W食記\\W.+\"\n",
    "    if re.match(regex,f_Name.get_text())!=None:\n",
    "        listData.append({\n",
    "            \"title\":f_Name.get_text(),\n",
    "            \"link\": \"https://www.ptt.cc\"+ r_ent.select_one('div.title > a')['href']\n",
    "        })\n",
    "        \n",
    "folderPath = 'ptt_food'\n",
    "if not os.path.exists(folderPath):\n",
    "    os.makedirs(folderPath)\n",
    "    \n",
    "with open(f\"{folderPath}/PTT美食網頁.txt\", \"w\", encoding='utf-8') as file:\n",
    "\n",
    "    for index,obj in enumerate(listData):\n",
    "\n",
    "            re = req.get(obj[\"link\"])\n",
    "            sp = bs(re.text,\"lxml\")\n",
    "            content = sp.select_one(\"div#main-content\").get_text()\n",
    "            listData[index][\"content\"] =content\n",
    "\n",
    "\n",
    "            file.write('標題:'+obj['title']+'\\n')\n",
    "            file.write('內容:'+obj['content']+'\\n')\n",
    "            file.write('\\n')\n",
    "            file.write('\\n')\n",
    "            file.write('\\n')\n",
    "            file.write('\\n')"
   ]
  },
  {
   "cell_type": "code",
   "execution_count": null,
   "id": "9b3d0a68",
   "metadata": {},
   "outputs": [],
   "source": []
  }
 ],
 "metadata": {
  "kernelspec": {
   "display_name": "Python 3 (ipykernel)",
   "language": "python",
   "name": "python3"
  },
  "language_info": {
   "codemirror_mode": {
    "name": "ipython",
    "version": 3
   },
   "file_extension": ".py",
   "mimetype": "text/x-python",
   "name": "python",
   "nbconvert_exporter": "python",
   "pygments_lexer": "ipython3",
   "version": "3.9.13"
  }
 },
 "nbformat": 4,
 "nbformat_minor": 5
}
