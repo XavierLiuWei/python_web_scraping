{
 "cells": [
  {
   "cell_type": "code",
   "execution_count": null,
   "id": "0876e251",
   "metadata": {},
   "outputs": [],
   "source": [
    "import requests as req\n",
    "from bs4 import BeautifulSoup as bs\n",
    "import os\n",
    "import re\n",
    "\n",
    "# 走訪網頁\n",
    "url=\"https://www.gutenberg.org/browse/languages/zh\"\n",
    "res=req.get(url)\n",
    "soup=bs(res.text,\"lxml\")\n",
    "\n",
    "# 建立資料夾\n",
    "folderPath = 'Novel'\n",
    "if not os.path.exists(folderPath):\n",
    "    os.makedirs(folderPath)\n",
    "    \n",
    "listNovel=[]\n",
    "\n",
    "# 取得內文連結\n",
    "for n in soup.select(\"li.pgdbetext > a\"):\n",
    "    regex=r\"[\\u4e00-\\u9fa5]\"\n",
    "    if re.match(regex,n.get_text())!=None:\n",
    "        title = n.get_text()\n",
    "        link = \"https://www.gutenberg.org\"+n[\"href\"]+\".html.noimages\"\n",
    "#         print(link)\n",
    "    if '\\r' in title: continue\n",
    "    else:\n",
    "        listNovel.append({\n",
    "            \"title\":title,\n",
    "            \"link\" : link\n",
    "        })\n",
    "\n",
    "# 走訪連結,爬取文字\n",
    "count=0\n",
    "for obj in listNovel :\n",
    "    resNovel =req.get(obj['link']) \n",
    "    soupNovel=bs(resNovel.text,\"lxml\")\n",
    "    content=soupNovel.select(\"p\")\n",
    "    count+=1\n",
    "    print(f\"第{count}本成功,書名:{obj['title']}\")\n",
    "    \n",
    "    with open(f\"{folderPath}/{obj['title']}.txt\", \"w\", encoding='utf-8') as file:\n",
    "        for t in content:\n",
    "            regex=r\"[a-zA-Z]\"\n",
    "            if re.match(regex,t.get_text())!=None:continue # 過濾掉英文內容的部分\n",
    "\n",
    "            else:\n",
    "\n",
    "                file.write(t.get_text()+\"\\n\")\n",
    "#     if count ==300:break"
   ]
  }
 ],
 "metadata": {
  "kernelspec": {
   "display_name": "Python 3 (ipykernel)",
   "language": "python",
   "name": "python3"
  },
  "language_info": {
   "codemirror_mode": {
    "name": "ipython",
    "version": 3
   },
   "file_extension": ".py",
   "mimetype": "text/x-python",
   "name": "python",
   "nbconvert_exporter": "python",
   "pygments_lexer": "ipython3",
   "version": "3.9.13"
  }
 },
 "nbformat": 4,
 "nbformat_minor": 5
}
